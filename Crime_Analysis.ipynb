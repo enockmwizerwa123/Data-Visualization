{
  "nbformat": 4,
  "nbformat_minor": 0,
  "metadata": {
    "colab": {
      "provenance": [],
      "authorship_tag": "ABX9TyPh6K0W0g3ocuohMoaWorqv",
      "include_colab_link": true
    },
    "kernelspec": {
      "name": "python3",
      "display_name": "Python 3"
    },
    "language_info": {
      "name": "python"
    }
  },
  "cells": [
    {
      "cell_type": "markdown",
      "metadata": {
        "id": "view-in-github",
        "colab_type": "text"
      },
      "source": [
        "<a href=\"https://colab.research.google.com/github/enockmwizerwa123/Data-Visualization/blob/main/Crime_Analysis.ipynb\" target=\"_parent\"><img src=\"https://colab.research.google.com/assets/colab-badge.svg\" alt=\"Open In Colab\"/></a>"
      ]
    },
    {
      "cell_type": "code",
      "execution_count": 1,
      "metadata": {
        "id": "7YJRM8VIx3aV"
      },
      "outputs": [],
      "source": [
        "import numpy as np\n",
        "import pandas as pd\n",
        "import matplotlib.pyplot as plt\n",
        "import seaborn as sns\n",
        "#%matplot inline\n",
        "import warnings\n",
        "warnings.filterwarnings(\"ignore\")"
      ]
    },
    {
      "cell_type": "code",
      "source": [
        "#load the data and display first 5 rows\n",
        "data = pd.read_csv('/content/homicide-data.csv',encoding='unicode escape')\n",
        "data"
      ],
      "metadata": {
        "id": "-x-cjd0kzP5g",
        "colab": {
          "base_uri": "https://localhost:8080/",
          "height": 423
        },
        "outputId": "e2735748-cacc-4c46-de72-ebaea6c9f9fc"
      },
      "execution_count": 37,
      "outputs": [
        {
          "output_type": "execute_result",
          "data": {
            "text/plain": [
              "              uid  reported_date  victim_last victim_first victim_race  \\\n",
              "0      Alb-000001       20100504       GARCIA         JUAN    Hispanic   \n",
              "1      Alb-000002       20100216      MONTOYA      CAMERON    Hispanic   \n",
              "2      Alb-000003       20100601  SATTERFIELD      VIVIANA       White   \n",
              "3      Alb-000004       20100101     MENDIOLA       CARLOS    Hispanic   \n",
              "4      Alb-000005       20100102         MULA       VIVIAN       White   \n",
              "...           ...            ...          ...          ...         ...   \n",
              "52174  Was-001380       20160908     WILLIAMS         EVAN       Black   \n",
              "52175  Was-001381       20160913        SMITH         DEON       Black   \n",
              "52176  Was-001382       20161114   WASHINGTON       WILLIE       Black   \n",
              "52177  Was-001383       20161130       BARNES       MARCUS       Black   \n",
              "52178  Was-001384       20160901      JACKSON        KEVIN       Black   \n",
              "\n",
              "      victim_age victim_sex         city state        lat         lon  \\\n",
              "0             78       Male  Albuquerque    NM  35.095788 -106.538555   \n",
              "1             17       Male  Albuquerque    NM  35.056810 -106.715321   \n",
              "2             15     Female  Albuquerque    NM  35.086092 -106.695568   \n",
              "3             32       Male  Albuquerque    NM  35.078493 -106.556094   \n",
              "4             72     Female  Albuquerque    NM  35.130357 -106.580986   \n",
              "...          ...        ...          ...   ...        ...         ...   \n",
              "52174         29       Male   Washington    DC  38.828704  -77.002075   \n",
              "52175         19       Male   Washington    DC  38.822852  -77.001725   \n",
              "52176         23       Male   Washington    DC  38.828025  -77.002511   \n",
              "52177         24       Male   Washington    DC  38.820476  -77.008640   \n",
              "52178         17       Male   Washington    DC  38.866689  -76.982409   \n",
              "\n",
              "                 disposition  \n",
              "0      Closed without arrest  \n",
              "1           Closed by arrest  \n",
              "2      Closed without arrest  \n",
              "3           Closed by arrest  \n",
              "4      Closed without arrest  \n",
              "...                      ...  \n",
              "52174       Closed by arrest  \n",
              "52175         Open/No arrest  \n",
              "52176         Open/No arrest  \n",
              "52177         Open/No arrest  \n",
              "52178       Closed by arrest  \n",
              "\n",
              "[52179 rows x 12 columns]"
            ],
            "text/html": [
              "\n",
              "  <div id=\"df-41723b2d-4743-43d8-adc6-6c2c8c5cf588\" class=\"colab-df-container\">\n",
              "    <div>\n",
              "<style scoped>\n",
              "    .dataframe tbody tr th:only-of-type {\n",
              "        vertical-align: middle;\n",
              "    }\n",
              "\n",
              "    .dataframe tbody tr th {\n",
              "        vertical-align: top;\n",
              "    }\n",
              "\n",
              "    .dataframe thead th {\n",
              "        text-align: right;\n",
              "    }\n",
              "</style>\n",
              "<table border=\"1\" class=\"dataframe\">\n",
              "  <thead>\n",
              "    <tr style=\"text-align: right;\">\n",
              "      <th></th>\n",
              "      <th>uid</th>\n",
              "      <th>reported_date</th>\n",
              "      <th>victim_last</th>\n",
              "      <th>victim_first</th>\n",
              "      <th>victim_race</th>\n",
              "      <th>victim_age</th>\n",
              "      <th>victim_sex</th>\n",
              "      <th>city</th>\n",
              "      <th>state</th>\n",
              "      <th>lat</th>\n",
              "      <th>lon</th>\n",
              "      <th>disposition</th>\n",
              "    </tr>\n",
              "  </thead>\n",
              "  <tbody>\n",
              "    <tr>\n",
              "      <th>0</th>\n",
              "      <td>Alb-000001</td>\n",
              "      <td>20100504</td>\n",
              "      <td>GARCIA</td>\n",
              "      <td>JUAN</td>\n",
              "      <td>Hispanic</td>\n",
              "      <td>78</td>\n",
              "      <td>Male</td>\n",
              "      <td>Albuquerque</td>\n",
              "      <td>NM</td>\n",
              "      <td>35.095788</td>\n",
              "      <td>-106.538555</td>\n",
              "      <td>Closed without arrest</td>\n",
              "    </tr>\n",
              "    <tr>\n",
              "      <th>1</th>\n",
              "      <td>Alb-000002</td>\n",
              "      <td>20100216</td>\n",
              "      <td>MONTOYA</td>\n",
              "      <td>CAMERON</td>\n",
              "      <td>Hispanic</td>\n",
              "      <td>17</td>\n",
              "      <td>Male</td>\n",
              "      <td>Albuquerque</td>\n",
              "      <td>NM</td>\n",
              "      <td>35.056810</td>\n",
              "      <td>-106.715321</td>\n",
              "      <td>Closed by arrest</td>\n",
              "    </tr>\n",
              "    <tr>\n",
              "      <th>2</th>\n",
              "      <td>Alb-000003</td>\n",
              "      <td>20100601</td>\n",
              "      <td>SATTERFIELD</td>\n",
              "      <td>VIVIANA</td>\n",
              "      <td>White</td>\n",
              "      <td>15</td>\n",
              "      <td>Female</td>\n",
              "      <td>Albuquerque</td>\n",
              "      <td>NM</td>\n",
              "      <td>35.086092</td>\n",
              "      <td>-106.695568</td>\n",
              "      <td>Closed without arrest</td>\n",
              "    </tr>\n",
              "    <tr>\n",
              "      <th>3</th>\n",
              "      <td>Alb-000004</td>\n",
              "      <td>20100101</td>\n",
              "      <td>MENDIOLA</td>\n",
              "      <td>CARLOS</td>\n",
              "      <td>Hispanic</td>\n",
              "      <td>32</td>\n",
              "      <td>Male</td>\n",
              "      <td>Albuquerque</td>\n",
              "      <td>NM</td>\n",
              "      <td>35.078493</td>\n",
              "      <td>-106.556094</td>\n",
              "      <td>Closed by arrest</td>\n",
              "    </tr>\n",
              "    <tr>\n",
              "      <th>4</th>\n",
              "      <td>Alb-000005</td>\n",
              "      <td>20100102</td>\n",
              "      <td>MULA</td>\n",
              "      <td>VIVIAN</td>\n",
              "      <td>White</td>\n",
              "      <td>72</td>\n",
              "      <td>Female</td>\n",
              "      <td>Albuquerque</td>\n",
              "      <td>NM</td>\n",
              "      <td>35.130357</td>\n",
              "      <td>-106.580986</td>\n",
              "      <td>Closed without arrest</td>\n",
              "    </tr>\n",
              "    <tr>\n",
              "      <th>...</th>\n",
              "      <td>...</td>\n",
              "      <td>...</td>\n",
              "      <td>...</td>\n",
              "      <td>...</td>\n",
              "      <td>...</td>\n",
              "      <td>...</td>\n",
              "      <td>...</td>\n",
              "      <td>...</td>\n",
              "      <td>...</td>\n",
              "      <td>...</td>\n",
              "      <td>...</td>\n",
              "      <td>...</td>\n",
              "    </tr>\n",
              "    <tr>\n",
              "      <th>52174</th>\n",
              "      <td>Was-001380</td>\n",
              "      <td>20160908</td>\n",
              "      <td>WILLIAMS</td>\n",
              "      <td>EVAN</td>\n",
              "      <td>Black</td>\n",
              "      <td>29</td>\n",
              "      <td>Male</td>\n",
              "      <td>Washington</td>\n",
              "      <td>DC</td>\n",
              "      <td>38.828704</td>\n",
              "      <td>-77.002075</td>\n",
              "      <td>Closed by arrest</td>\n",
              "    </tr>\n",
              "    <tr>\n",
              "      <th>52175</th>\n",
              "      <td>Was-001381</td>\n",
              "      <td>20160913</td>\n",
              "      <td>SMITH</td>\n",
              "      <td>DEON</td>\n",
              "      <td>Black</td>\n",
              "      <td>19</td>\n",
              "      <td>Male</td>\n",
              "      <td>Washington</td>\n",
              "      <td>DC</td>\n",
              "      <td>38.822852</td>\n",
              "      <td>-77.001725</td>\n",
              "      <td>Open/No arrest</td>\n",
              "    </tr>\n",
              "    <tr>\n",
              "      <th>52176</th>\n",
              "      <td>Was-001382</td>\n",
              "      <td>20161114</td>\n",
              "      <td>WASHINGTON</td>\n",
              "      <td>WILLIE</td>\n",
              "      <td>Black</td>\n",
              "      <td>23</td>\n",
              "      <td>Male</td>\n",
              "      <td>Washington</td>\n",
              "      <td>DC</td>\n",
              "      <td>38.828025</td>\n",
              "      <td>-77.002511</td>\n",
              "      <td>Open/No arrest</td>\n",
              "    </tr>\n",
              "    <tr>\n",
              "      <th>52177</th>\n",
              "      <td>Was-001383</td>\n",
              "      <td>20161130</td>\n",
              "      <td>BARNES</td>\n",
              "      <td>MARCUS</td>\n",
              "      <td>Black</td>\n",
              "      <td>24</td>\n",
              "      <td>Male</td>\n",
              "      <td>Washington</td>\n",
              "      <td>DC</td>\n",
              "      <td>38.820476</td>\n",
              "      <td>-77.008640</td>\n",
              "      <td>Open/No arrest</td>\n",
              "    </tr>\n",
              "    <tr>\n",
              "      <th>52178</th>\n",
              "      <td>Was-001384</td>\n",
              "      <td>20160901</td>\n",
              "      <td>JACKSON</td>\n",
              "      <td>KEVIN</td>\n",
              "      <td>Black</td>\n",
              "      <td>17</td>\n",
              "      <td>Male</td>\n",
              "      <td>Washington</td>\n",
              "      <td>DC</td>\n",
              "      <td>38.866689</td>\n",
              "      <td>-76.982409</td>\n",
              "      <td>Closed by arrest</td>\n",
              "    </tr>\n",
              "  </tbody>\n",
              "</table>\n",
              "<p>52179 rows × 12 columns</p>\n",
              "</div>\n",
              "    <div class=\"colab-df-buttons\">\n",
              "\n",
              "  <div class=\"colab-df-container\">\n",
              "    <button class=\"colab-df-convert\" onclick=\"convertToInteractive('df-41723b2d-4743-43d8-adc6-6c2c8c5cf588')\"\n",
              "            title=\"Convert this dataframe to an interactive table.\"\n",
              "            style=\"display:none;\">\n",
              "\n",
              "  <svg xmlns=\"http://www.w3.org/2000/svg\" height=\"24px\" viewBox=\"0 -960 960 960\">\n",
              "    <path d=\"M120-120v-720h720v720H120Zm60-500h600v-160H180v160Zm220 220h160v-160H400v160Zm0 220h160v-160H400v160ZM180-400h160v-160H180v160Zm440 0h160v-160H620v160ZM180-180h160v-160H180v160Zm440 0h160v-160H620v160Z\"/>\n",
              "  </svg>\n",
              "    </button>\n",
              "\n",
              "  <style>\n",
              "    .colab-df-container {\n",
              "      display:flex;\n",
              "      gap: 12px;\n",
              "    }\n",
              "\n",
              "    .colab-df-convert {\n",
              "      background-color: #E8F0FE;\n",
              "      border: none;\n",
              "      border-radius: 50%;\n",
              "      cursor: pointer;\n",
              "      display: none;\n",
              "      fill: #1967D2;\n",
              "      height: 32px;\n",
              "      padding: 0 0 0 0;\n",
              "      width: 32px;\n",
              "    }\n",
              "\n",
              "    .colab-df-convert:hover {\n",
              "      background-color: #E2EBFA;\n",
              "      box-shadow: 0px 1px 2px rgba(60, 64, 67, 0.3), 0px 1px 3px 1px rgba(60, 64, 67, 0.15);\n",
              "      fill: #174EA6;\n",
              "    }\n",
              "\n",
              "    .colab-df-buttons div {\n",
              "      margin-bottom: 4px;\n",
              "    }\n",
              "\n",
              "    [theme=dark] .colab-df-convert {\n",
              "      background-color: #3B4455;\n",
              "      fill: #D2E3FC;\n",
              "    }\n",
              "\n",
              "    [theme=dark] .colab-df-convert:hover {\n",
              "      background-color: #434B5C;\n",
              "      box-shadow: 0px 1px 3px 1px rgba(0, 0, 0, 0.15);\n",
              "      filter: drop-shadow(0px 1px 2px rgba(0, 0, 0, 0.3));\n",
              "      fill: #FFFFFF;\n",
              "    }\n",
              "  </style>\n",
              "\n",
              "    <script>\n",
              "      const buttonEl =\n",
              "        document.querySelector('#df-41723b2d-4743-43d8-adc6-6c2c8c5cf588 button.colab-df-convert');\n",
              "      buttonEl.style.display =\n",
              "        google.colab.kernel.accessAllowed ? 'block' : 'none';\n",
              "\n",
              "      async function convertToInteractive(key) {\n",
              "        const element = document.querySelector('#df-41723b2d-4743-43d8-adc6-6c2c8c5cf588');\n",
              "        const dataTable =\n",
              "          await google.colab.kernel.invokeFunction('convertToInteractive',\n",
              "                                                    [key], {});\n",
              "        if (!dataTable) return;\n",
              "\n",
              "        const docLinkHtml = 'Like what you see? Visit the ' +\n",
              "          '<a target=\"_blank\" href=https://colab.research.google.com/notebooks/data_table.ipynb>data table notebook</a>'\n",
              "          + ' to learn more about interactive tables.';\n",
              "        element.innerHTML = '';\n",
              "        dataTable['output_type'] = 'display_data';\n",
              "        await google.colab.output.renderOutput(dataTable, element);\n",
              "        const docLink = document.createElement('div');\n",
              "        docLink.innerHTML = docLinkHtml;\n",
              "        element.appendChild(docLink);\n",
              "      }\n",
              "    </script>\n",
              "  </div>\n",
              "\n",
              "\n",
              "<div id=\"df-41dea673-ebaf-4991-84b8-bd85aa42d352\">\n",
              "  <button class=\"colab-df-quickchart\" onclick=\"quickchart('df-41dea673-ebaf-4991-84b8-bd85aa42d352')\"\n",
              "            title=\"Suggest charts.\"\n",
              "            style=\"display:none;\">\n",
              "\n",
              "<svg xmlns=\"http://www.w3.org/2000/svg\" height=\"24px\"viewBox=\"0 0 24 24\"\n",
              "     width=\"24px\">\n",
              "    <g>\n",
              "        <path d=\"M19 3H5c-1.1 0-2 .9-2 2v14c0 1.1.9 2 2 2h14c1.1 0 2-.9 2-2V5c0-1.1-.9-2-2-2zM9 17H7v-7h2v7zm4 0h-2V7h2v10zm4 0h-2v-4h2v4z\"/>\n",
              "    </g>\n",
              "</svg>\n",
              "  </button>\n",
              "\n",
              "<style>\n",
              "  .colab-df-quickchart {\n",
              "      --bg-color: #E8F0FE;\n",
              "      --fill-color: #1967D2;\n",
              "      --hover-bg-color: #E2EBFA;\n",
              "      --hover-fill-color: #174EA6;\n",
              "      --disabled-fill-color: #AAA;\n",
              "      --disabled-bg-color: #DDD;\n",
              "  }\n",
              "\n",
              "  [theme=dark] .colab-df-quickchart {\n",
              "      --bg-color: #3B4455;\n",
              "      --fill-color: #D2E3FC;\n",
              "      --hover-bg-color: #434B5C;\n",
              "      --hover-fill-color: #FFFFFF;\n",
              "      --disabled-bg-color: #3B4455;\n",
              "      --disabled-fill-color: #666;\n",
              "  }\n",
              "\n",
              "  .colab-df-quickchart {\n",
              "    background-color: var(--bg-color);\n",
              "    border: none;\n",
              "    border-radius: 50%;\n",
              "    cursor: pointer;\n",
              "    display: none;\n",
              "    fill: var(--fill-color);\n",
              "    height: 32px;\n",
              "    padding: 0;\n",
              "    width: 32px;\n",
              "  }\n",
              "\n",
              "  .colab-df-quickchart:hover {\n",
              "    background-color: var(--hover-bg-color);\n",
              "    box-shadow: 0 1px 2px rgba(60, 64, 67, 0.3), 0 1px 3px 1px rgba(60, 64, 67, 0.15);\n",
              "    fill: var(--button-hover-fill-color);\n",
              "  }\n",
              "\n",
              "  .colab-df-quickchart-complete:disabled,\n",
              "  .colab-df-quickchart-complete:disabled:hover {\n",
              "    background-color: var(--disabled-bg-color);\n",
              "    fill: var(--disabled-fill-color);\n",
              "    box-shadow: none;\n",
              "  }\n",
              "\n",
              "  .colab-df-spinner {\n",
              "    border: 2px solid var(--fill-color);\n",
              "    border-color: transparent;\n",
              "    border-bottom-color: var(--fill-color);\n",
              "    animation:\n",
              "      spin 1s steps(1) infinite;\n",
              "  }\n",
              "\n",
              "  @keyframes spin {\n",
              "    0% {\n",
              "      border-color: transparent;\n",
              "      border-bottom-color: var(--fill-color);\n",
              "      border-left-color: var(--fill-color);\n",
              "    }\n",
              "    20% {\n",
              "      border-color: transparent;\n",
              "      border-left-color: var(--fill-color);\n",
              "      border-top-color: var(--fill-color);\n",
              "    }\n",
              "    30% {\n",
              "      border-color: transparent;\n",
              "      border-left-color: var(--fill-color);\n",
              "      border-top-color: var(--fill-color);\n",
              "      border-right-color: var(--fill-color);\n",
              "    }\n",
              "    40% {\n",
              "      border-color: transparent;\n",
              "      border-right-color: var(--fill-color);\n",
              "      border-top-color: var(--fill-color);\n",
              "    }\n",
              "    60% {\n",
              "      border-color: transparent;\n",
              "      border-right-color: var(--fill-color);\n",
              "    }\n",
              "    80% {\n",
              "      border-color: transparent;\n",
              "      border-right-color: var(--fill-color);\n",
              "      border-bottom-color: var(--fill-color);\n",
              "    }\n",
              "    90% {\n",
              "      border-color: transparent;\n",
              "      border-bottom-color: var(--fill-color);\n",
              "    }\n",
              "  }\n",
              "</style>\n",
              "\n",
              "  <script>\n",
              "    async function quickchart(key) {\n",
              "      const quickchartButtonEl =\n",
              "        document.querySelector('#' + key + ' button');\n",
              "      quickchartButtonEl.disabled = true;  // To prevent multiple clicks.\n",
              "      quickchartButtonEl.classList.add('colab-df-spinner');\n",
              "      try {\n",
              "        const charts = await google.colab.kernel.invokeFunction(\n",
              "            'suggestCharts', [key], {});\n",
              "      } catch (error) {\n",
              "        console.error('Error during call to suggestCharts:', error);\n",
              "      }\n",
              "      quickchartButtonEl.classList.remove('colab-df-spinner');\n",
              "      quickchartButtonEl.classList.add('colab-df-quickchart-complete');\n",
              "    }\n",
              "    (() => {\n",
              "      let quickchartButtonEl =\n",
              "        document.querySelector('#df-41dea673-ebaf-4991-84b8-bd85aa42d352 button');\n",
              "      quickchartButtonEl.style.display =\n",
              "        google.colab.kernel.accessAllowed ? 'block' : 'none';\n",
              "    })();\n",
              "  </script>\n",
              "</div>\n",
              "    </div>\n",
              "  </div>\n"
            ]
          },
          "metadata": {},
          "execution_count": 37
        }
      ]
    },
    {
      "cell_type": "markdown",
      "source": [
        "<h1> <center> Data Preprocessing"
      ],
      "metadata": {
        "id": "-so6LYEUSSwa"
      }
    },
    {
      "cell_type": "code",
      "source": [
        "#data information\n",
        "data.info()"
      ],
      "metadata": {
        "id": "ZzcYVrdtzP7y",
        "colab": {
          "base_uri": "https://localhost:8080/"
        },
        "outputId": "f6bf57ed-7690-479d-9258-125a6d1765bb"
      },
      "execution_count": 38,
      "outputs": [
        {
          "output_type": "stream",
          "name": "stdout",
          "text": [
            "<class 'pandas.core.frame.DataFrame'>\n",
            "RangeIndex: 52179 entries, 0 to 52178\n",
            "Data columns (total 12 columns):\n",
            " #   Column         Non-Null Count  Dtype  \n",
            "---  ------         --------------  -----  \n",
            " 0   uid            52179 non-null  object \n",
            " 1   reported_date  52179 non-null  int64  \n",
            " 2   victim_last    52178 non-null  object \n",
            " 3   victim_first   52179 non-null  object \n",
            " 4   victim_race    52179 non-null  object \n",
            " 5   victim_age     52179 non-null  object \n",
            " 6   victim_sex     52179 non-null  object \n",
            " 7   city           52179 non-null  object \n",
            " 8   state          52179 non-null  object \n",
            " 9   lat            52119 non-null  float64\n",
            " 10  lon            52119 non-null  float64\n",
            " 11  disposition    52179 non-null  object \n",
            "dtypes: float64(2), int64(1), object(9)\n",
            "memory usage: 4.8+ MB\n"
          ]
        }
      ]
    },
    {
      "cell_type": "code",
      "source": [
        "#check the size of dataset\n",
        "data.shape"
      ],
      "metadata": {
        "id": "QW0KVxyQzP99",
        "colab": {
          "base_uri": "https://localhost:8080/"
        },
        "outputId": "a8f1b09c-92e6-4c1c-dd9b-2b3d19d63fe3"
      },
      "execution_count": 39,
      "outputs": [
        {
          "output_type": "execute_result",
          "data": {
            "text/plain": [
              "(52179, 12)"
            ]
          },
          "metadata": {},
          "execution_count": 39
        }
      ]
    },
    {
      "cell_type": "code",
      "source": [
        "#look for number of null values in each entity\n",
        "data.isnull().sum()"
      ],
      "metadata": {
        "id": "g2RluRrTzP_z",
        "colab": {
          "base_uri": "https://localhost:8080/"
        },
        "outputId": "83377274-34e5-449f-d1df-d0a120a72297"
      },
      "execution_count": 6,
      "outputs": [
        {
          "output_type": "execute_result",
          "data": {
            "text/plain": [
              "uid               0\n",
              "reported_date     0\n",
              "victim_last       1\n",
              "victim_first      0\n",
              "victim_race       0\n",
              "victim_age        0\n",
              "victim_sex        0\n",
              "city              0\n",
              "state             0\n",
              "lat              60\n",
              "lon              60\n",
              "disposition       0\n",
              "dtype: int64"
            ]
          },
          "metadata": {},
          "execution_count": 6
        }
      ]
    },
    {
      "cell_type": "code",
      "source": [
        "#Feature engineering\n",
        "data.state.unique()"
      ],
      "metadata": {
        "id": "zCc_RKZ2zQB2",
        "colab": {
          "base_uri": "https://localhost:8080/"
        },
        "outputId": "834d84d3-e1d4-465c-811a-3b2d4ac8b66c"
      },
      "execution_count": 40,
      "outputs": [
        {
          "output_type": "execute_result",
          "data": {
            "text/plain": [
              "array(['NM', 'GA', 'MD', 'LA', 'AL', 'MA', 'NY', 'NC', 'IL', 'OH', 'TX',\n",
              "       'CO', 'MI', 'CA', 'IN', 'FL', 'MO', 'NV', 'KY', 'TN', 'wI', 'MN',\n",
              "       'OK', 'NE', 'PA', 'AZ', 'VA', 'DC'], dtype=object)"
            ]
          },
          "metadata": {},
          "execution_count": 40
        }
      ]
    },
    {
      "cell_type": "code",
      "source": [
        "#create the dictionary\n",
        "dict ={'NM': 'New Mexico','GA': 'Georgia','MD': 'Maryland','LA': 'Louisiana',\n",
        "'AL': 'Alabama','MA': 'Massachusetts','NY': 'New York','NC': 'North Carolina','IL':'Illonois',\n",
        "'OH': 'Ohio','TX': 'Texas','CO': 'Colorado','MI': 'Michigan','CA': 'California','IN':'Indiana',\n",
        "'FL': 'Florida', 'OK' : 'Oklahoma', 'PA' : 'Pennsylvania', 'NE' : 'Nebraska', 'AZ':'Arizona',\n",
        "'VA': 'Virginia', 'MO' : 'Missouri', 'DC' : 'District of Columbia', 'NV' : 'Neva','TN': 'Tennessee', 'wI' : 'Wisconsin', 'MN' : 'Minnesota'}"
      ],
      "metadata": {
        "id": "rr1WXs83zQEE"
      },
      "execution_count": 41,
      "outputs": []
    },
    {
      "cell_type": "code",
      "source": [
        "data['state'].replace(dict,inplace=True)"
      ],
      "metadata": {
        "id": "tnnhgMyfzQGC"
      },
      "execution_count": 42,
      "outputs": []
    },
    {
      "cell_type": "code",
      "source": [
        "data.state.unique()"
      ],
      "metadata": {
        "id": "hJGQKJHqzQIZ",
        "colab": {
          "base_uri": "https://localhost:8080/"
        },
        "outputId": "827664df-e869-4065-af63-b5cbd9cc10a3"
      },
      "execution_count": 43,
      "outputs": [
        {
          "output_type": "execute_result",
          "data": {
            "text/plain": [
              "array(['New Mexico', 'Georgia', 'Maryland', 'Louisiana', 'Alabama',\n",
              "       'Massachusetts', 'New York', 'North Carolina', 'Illonois', 'Ohio',\n",
              "       'Texas', 'Colorado', 'Michigan', 'California', 'Indiana',\n",
              "       'Florida', 'Missouri', 'Neva', 'KY', 'Tennessee', 'Wisconsin',\n",
              "       'Minnesota', 'Oklahoma', 'Nebraska', 'Pennsylvania', 'Arizona',\n",
              "       'Virginia', 'District of Columbia'], dtype=object)"
            ]
          },
          "metadata": {},
          "execution_count": 43
        }
      ]
    },
    {
      "cell_type": "code",
      "source": [
        "#drop unwanted columns\n",
        "data.drop(['victim_first','victim_last'],axis =1, inplace = True)"
      ],
      "metadata": {
        "id": "RH1C_mMSzQKd"
      },
      "execution_count": 44,
      "outputs": []
    },
    {
      "cell_type": "markdown",
      "source": [
        "<h3> <center> Data Exploration"
      ],
      "metadata": {
        "id": "mKCaohMqSqkl"
      }
    },
    {
      "cell_type": "markdown",
      "source": [
        "**Q1. Which state has the highest numbers of cases?**"
      ],
      "metadata": {
        "id": "VPirj0OnUuWM"
      }
    },
    {
      "cell_type": "code",
      "source": [
        "# Get the number of occurrences of each state\n",
        "n_occurrences = data['state'].value_counts()\n",
        "# Get bar names\n",
        "bar_names = n_occurrences.index.astype(str).to_list()\n",
        "# Get maximum bar name string lengths\n",
        "max_name_length = 0\n",
        "for name in bar_names:\n",
        " max_name_length = max(max_name_length, len(name))\n",
        "# Get total number of bars\n",
        "n_bars = len(bar_names)\n",
        "# Create a bar chart of the number of occurrences of each state\n",
        "plt.bar(n_occurrences.index, n_occurrences.values, color= 'blue')\n",
        "plt.xlabel('State')\n",
        "plt.ylabel('Number of Occurrences')\n",
        "plt.title('Number of Cases of Each State')\n",
        "plt.xticks(rotation=90)\n",
        "plt.show();"
      ],
      "metadata": {
        "id": "xQDUqSyJzQM0",
        "colab": {
          "base_uri": "https://localhost:8080/",
          "height": 596
        },
        "outputId": "a87fb251-e028-4d2f-91dc-4ef70ef33fae"
      },
      "execution_count": 45,
      "outputs": [
        {
          "output_type": "display_data",
          "data": {
            "text/plain": [
              "<Figure size 640x480 with 1 Axes>"
            ],
            "image/png": "[encoded data removed]"
          },
          "metadata": {}
        }
      ]
    },
    {
      "cell_type": "markdown",
      "source": [
        "As we can see Califonia has more cases compared to to rest of the other cities it is followed by texas and ilinois wheresa colorado has less than 1000 cases"
      ],
      "metadata": {
        "id": "Ss2OJH6eUKgc"
      }
    },
    {
      "cell_type": "markdown",
      "source": [
        "**Q2. what is the distribution of disposition status?**"
      ],
      "metadata": {
        "id": "GRT_Fmg4VA4k"
      }
    },
    {
      "cell_type": "code",
      "source": [
        "# Create a bar chart of the distribution of disposition of total cases\n",
        "plt.figure(figsize=(10, 7))\n",
        "sns.countplot(x='disposition', data=data)\n",
        "plt.title(\"Distribution of Disposition\")\n",
        "plt.xlabel('Disposition')\n",
        "plt.ylabel('Count of Disposition')\n",
        "plt.show()"
      ],
      "metadata": {
        "colab": {
          "base_uri": "https://localhost:8080/",
          "height": 641
        },
        "id": "oY3k4dLTUqDU",
        "outputId": "585394e2-7418-4287-c056-862e94afea65"
      },
      "execution_count": 46,
      "outputs": [
        {
          "output_type": "display_data",
          "data": {
            "text/plain": [
              "<Figure size 1000x700 with 1 Axes>"
            ],
            "image/png": "[encoded data removed]"
          },
          "metadata": {}
        }
      ]
    },
    {
      "cell_type": "markdown",
      "source": [
        "Although  there are the lots of cases which have been closed with arrests made, on other hand it is noted that there are most equivalent number of cases were still open with no arrest made yet.\n"
      ],
      "metadata": {
        "id": "w1kq5sdxWaIl"
      }
    },
    {
      "cell_type": "markdown",
      "source": [
        "**Q3. Highest homicide rates by race**\n"
      ],
      "metadata": {
        "id": "wVFu2QAsW5H_"
      }
    },
    {
      "cell_type": "code",
      "source": [
        "# Create a bar chart of the distribution of victims race\n",
        "plt.figure(figsize=(10, 7))\n",
        "sns.countplot(x = 'victim_race', data=data)\n",
        "plt.title(\"Distribution of Victim's Race\")\n",
        "plt.xlabel('Victim Race')\n",
        "plt.ylabel('Count')\n",
        "plt.show();"
      ],
      "metadata": {
        "id": "4L1Y63D5zQRH",
        "colab": {
          "base_uri": "https://localhost:8080/",
          "height": 641
        },
        "outputId": "c1ca5cfe-b042-49f4-9ff3-9c76bc61d8d1"
      },
      "execution_count": 47,
      "outputs": [
        {
          "output_type": "display_data",
          "data": {
            "text/plain": [
              "<Figure size 1000x700 with 1 Axes>"
            ],
            "image/png": "[encoded data removed]"
          },
          "metadata": {}
        }
      ]
    },
    {
      "cell_type": "markdown",
      "source": [
        "A very high number of homicide victims were black, this number is quite alarming. It\n",
        "could be seen that almost 35,000 victims were of black descendents."
      ],
      "metadata": {
        "id": "FT4e1be3XTHn"
      }
    },
    {
      "cell_type": "code",
      "source": [],
      "metadata": {
        "id": "9LQ6xEwtzQTj"
      },
      "execution_count": 47,
      "outputs": []
    },
    {
      "cell_type": "markdown",
      "source": [
        "**Q4. Highest homicide rates by gender**"
      ],
      "metadata": {
        "id": "cn8cnZrZXaWy"
      }
    },
    {
      "cell_type": "code",
      "source": [
        "# Create a bar chart of the distribution of victims sex\n",
        "plt.figure(figsize=(10, 7))\n",
        "sns.countplot(x='victim_sex', data=data)\n",
        "plt.title(\"Distribution of Victim's Sex\")\n",
        "plt.xlabel('Victim Sex')\n",
        "plt.ylabel('Count')\n",
        "plt.show();"
      ],
      "metadata": {
        "id": "vshfZlJvzQXu",
        "colab": {
          "base_uri": "https://localhost:8080/",
          "height": 641
        },
        "outputId": "f3c7e15a-e189-4231-eee2-ba88f3a376f7"
      },
      "execution_count": 48,
      "outputs": [
        {
          "output_type": "display_data",
          "data": {
            "text/plain": [
              "<Figure size 1000x700 with 1 Axes>"
            ],
            "image/png": "[encoded data removed]"
          },
          "metadata": {}
        }
      ]
    },
    {
      "cell_type": "markdown",
      "source": [
        "Homicides rate is higher in males compared to females"
      ],
      "metadata": {
        "id": "XlFmpaZTXroh"
      }
    },
    {
      "cell_type": "code",
      "source": [],
      "metadata": {
        "id": "3bcVGwNeXsuJ"
      },
      "execution_count": null,
      "outputs": []
    },
    {
      "cell_type": "markdown",
      "source": [
        "**Q5. What age range or age group has the highest number of homicide victims**\n"
      ],
      "metadata": {
        "id": "SMurDCEWX2Dy"
      }
    },
    {
      "cell_type": "code",
      "source": [
        "# convert the victim's age to numeric, in order to get a distribution\n",
        "data['victim_age'] = pd.to_numeric(data['victim_age'], errors='coerce')\n",
        "#plot the histogram chart using bins of 10 to display age distribution\n",
        "plt.hist(data['victim_age'], bins=10, color='blue')\n",
        "plt.xlabel('Age')\n",
        "plt.ylabel('Count')\n",
        "plt.title('Age Distribution')\n",
        "plt.show();\n"
      ],
      "metadata": {
        "colab": {
          "base_uri": "https://localhost:8080/",
          "height": 472
        },
        "id": "5xYYQVUWX1t6",
        "outputId": "ab6c6c51-624b-4f09-e970-9c64c9252401"
      },
      "execution_count": 49,
      "outputs": [
        {
          "output_type": "display_data",
          "data": {
            "text/plain": [
              "<Figure size 640x480 with 1 Axes>"
            ],
            "image/png": "[encoded data removed]"
          },
          "metadata": {}
        }
      ]
    },
    {
      "cell_type": "markdown",
      "source": [
        "We can see that most victims are young to middle-aged. Looks more like people in their\n",
        "30s are a target.\n"
      ],
      "metadata": {
        "id": "DILXaAn6Ytla"
      }
    },
    {
      "cell_type": "code",
      "source": [],
      "metadata": {
        "id": "xfXcXeBSzQd9"
      },
      "execution_count": null,
      "outputs": []
    },
    {
      "cell_type": "markdown",
      "source": [
        "**Data Quality Issue(s)**\n",
        "\n",
        "\n",
        "Some rows had to be dropped due to missing data, and information on some victims\n",
        "was not provided and marked as unknown to avoid assumptions. This highlights\n",
        "potential data quality issues that need addressing.\n",
        "\n",
        "**Recommendations**\n",
        "\n",
        "\n",
        "1. Address data quality issues to ensure more accurate and comprehensive reporting.\n",
        "This includes reducing missing information and standardizing data collection\n",
        "processes.\n",
        "2.Given the significant number of Black victims, consider targeted interventions and\n",
        "community engagement initiatives in areas with higher homicide rates to address root\n",
        "causes and reduce disparities.\n",
        "3. Develop outreach programs and support systems for young adults, especially those\n",
        "in their 30s, to help reduce their vulnerability to homicides.\n",
        "4. Continue efforts to close open cases and make arrests. Implement proactive policing\n",
        "strategies to deter potential offenders.\n",
        "5. Given the fluctuation in reporting over the years, establish yearly monitoring and\n",
        "analysis to identify trends and allocate resources effectively.\n",
        "6. Collaborate with communities and local organizations to build trust and encourage\n",
        "reporting, which can help in solving cases more efficiently.\n",
        "7. Provide training to law enforcement agencies to address any biases and ensure fair\n",
        "treatment in homicide cases.\n",
        "8. Strengthen victim support services to assist families affected by homicides and\n",
        "provide them with the necessary resources and counseling."
      ],
      "metadata": {
        "id": "R3bNeViDa0I6"
      }
    },
    {
      "cell_type": "code",
      "source": [],
      "metadata": {
        "id": "cz9DJj9mzQuI"
      },
      "execution_count": null,
      "outputs": []
    },
    {
      "cell_type": "code",
      "source": [],
      "metadata": {
        "id": "Qd3lT4_FzQwf"
      },
      "execution_count": null,
      "outputs": []
    },
    {
      "cell_type": "code",
      "source": [],
      "metadata": {
        "id": "J9dubkMwzQy3"
      },
      "execution_count": null,
      "outputs": []
    },
    {
      "cell_type": "code",
      "source": [],
      "metadata": {
        "id": "yrNtgUEZzQ3J"
      },
      "execution_count": null,
      "outputs": []
    }
  ]
}